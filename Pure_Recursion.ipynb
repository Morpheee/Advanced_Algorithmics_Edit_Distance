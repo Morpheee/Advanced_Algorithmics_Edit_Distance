{
 "cells": [
  {
   "cell_type": "code",
   "execution_count": 2,
   "metadata": {},
   "outputs": [],
   "source": [
    " #recursion for Edit Distance\n",
    "def RecED(s1,s2,operations=[],ED=0):\n",
    "    if len (s1)==0:\n",
    "        return ED+len(s2),operations+ [{'insert':x} for x in s2 ]  \n",
    "    if len(s2)==0:\n",
    "        return ED+len(s1),operations+ [{'insert':x} for x in s1 ] \n",
    "    if(s1[-1]== s2[-1]):\n",
    "        k = 0\n",
    "        w1=RecED(s1[:-1],s2[:-1],operations+[{'skip':s1[-1]}],ED+k)\n",
    "    else:\n",
    "        k = 1\n",
    "        w1=RecED(s1[:-1],s2[:-1],operations+[{'replace':s1[-1]}],ED+k)\n",
    "        \n",
    "    w2=RecED(s1[:-1],s2,operations+[{'delete':s1[-1]}],ED+1)\n",
    "    w3=RecED(s1, s2[:-1],operations+[{'insert':s2[-1]}],ED+1) \n",
    "    if w1[0]<=w2[0] and w1[0]<=w3[0]:\n",
    "        return w1\n",
    "    elif w2[0]<=w1[0] and w2[0]<=w3[0]:\n",
    "        return w2  \n",
    "    else :\n",
    "        return w3"
   ]
  },
  {
   "cell_type": "code",
   "execution_count": 12,
   "metadata": {},
   "outputs": [
    {
     "data": {
      "text/plain": [
       "(8,\n",
       " [{'replace': '3'},\n",
       "  {'replace': '2'},\n",
       "  {'replace': '1'},\n",
       "  {'skip': 'b'},\n",
       "  {'replace': 'c'},\n",
       "  {'replace': 'h'},\n",
       "  {'replace': 'j'},\n",
       "  {'replace': 's'},\n",
       "  {'replace': 'a'},\n",
       "  {'skip': 'i'},\n",
       "  {'skip': 'y'},\n",
       "  {'skip': 'L'}])"
      ]
     },
     "execution_count": 12,
     "metadata": {},
     "output_type": "execute_result"
    }
   ],
   "source": [
    "RecED ('Lyiasjhcb123','Lyiwuhefb456')"
   ]
  },
  {
   "cell_type": "code",
   "execution_count": null,
   "metadata": {},
   "outputs": [],
   "source": []
  },
  {
   "cell_type": "code",
   "execution_count": null,
   "metadata": {},
   "outputs": [],
   "source": []
  }
 ],
 "metadata": {
  "kernelspec": {
   "display_name": "Python 3",
   "language": "python",
   "name": "python3"
  },
  "language_info": {
   "codemirror_mode": {
    "name": "ipython",
    "version": 3
   },
   "file_extension": ".py",
   "mimetype": "text/x-python",
   "name": "python",
   "nbconvert_exporter": "python",
   "pygments_lexer": "ipython3",
   "version": "3.8.3"
  }
 },
 "nbformat": 4,
 "nbformat_minor": 4
}
