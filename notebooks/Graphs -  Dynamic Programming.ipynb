{
 "cells": [
  {
   "cell_type": "code",
   "execution_count": 5,
   "metadata": {},
   "outputs": [],
   "source": [
    "import pandas as pd\n",
    "import seaborn as sns\n",
    "import numpy as np\n",
    "from matplotlib import pyplot as plt\n",
    "from sklearn.metrics import r2_score\n",
    "\n",
    "from os import listdir\n",
    "from os.path import isfile, join"
   ]
  },
  {
   "cell_type": "code",
   "execution_count": 9,
   "metadata": {},
   "outputs": [
    {
     "data": {
      "text/html": [
       "<div>\n",
       "<style scoped>\n",
       "    .dataframe tbody tr th:only-of-type {\n",
       "        vertical-align: middle;\n",
       "    }\n",
       "\n",
       "    .dataframe tbody tr th {\n",
       "        vertical-align: top;\n",
       "    }\n",
       "\n",
       "    .dataframe thead th {\n",
       "        text-align: right;\n",
       "    }\n",
       "</style>\n",
       "<table border=\"1\" class=\"dataframe\">\n",
       "  <thead>\n",
       "    <tr style=\"text-align: right;\">\n",
       "      <th></th>\n",
       "      <th>algorithm</th>\n",
       "      <th>alphabet_len</th>\n",
       "      <th>test_type</th>\n",
       "      <th>len</th>\n",
       "      <th>clock_time</th>\n",
       "      <th>ed</th>\n",
       "      <th>calls</th>\n",
       "    </tr>\n",
       "  </thead>\n",
       "  <tbody>\n",
       "    <tr>\n",
       "      <th>0</th>\n",
       "      <td>divide_and_conquer</td>\n",
       "      <td>52</td>\n",
       "      <td>samepair</td>\n",
       "      <td>5</td>\n",
       "      <td>0.000226</td>\n",
       "      <td>0.0</td>\n",
       "      <td>1</td>\n",
       "    </tr>\n",
       "    <tr>\n",
       "      <th>1</th>\n",
       "      <td>dinamic_programming</td>\n",
       "      <td>52</td>\n",
       "      <td>samepair</td>\n",
       "      <td>5</td>\n",
       "      <td>0.000030</td>\n",
       "      <td>0.0</td>\n",
       "      <td>1</td>\n",
       "    </tr>\n",
       "    <tr>\n",
       "      <th>2</th>\n",
       "      <td>dinamic_programming_2</td>\n",
       "      <td>52</td>\n",
       "      <td>samepair</td>\n",
       "      <td>5</td>\n",
       "      <td>0.000159</td>\n",
       "      <td>0.0</td>\n",
       "      <td>1</td>\n",
       "    </tr>\n",
       "    <tr>\n",
       "      <th>3</th>\n",
       "      <td>greedy_approach</td>\n",
       "      <td>52</td>\n",
       "      <td>samepair</td>\n",
       "      <td>5</td>\n",
       "      <td>0.000073</td>\n",
       "      <td>0.0</td>\n",
       "      <td>1</td>\n",
       "    </tr>\n",
       "    <tr>\n",
       "      <th>4</th>\n",
       "      <td>divide_and_conquer</td>\n",
       "      <td>52</td>\n",
       "      <td>samepair</td>\n",
       "      <td>5</td>\n",
       "      <td>0.000164</td>\n",
       "      <td>0.0</td>\n",
       "      <td>1</td>\n",
       "    </tr>\n",
       "  </tbody>\n",
       "</table>\n",
       "</div>"
      ],
      "text/plain": [
       "               algorithm  alphabet_len test_type  len  clock_time   ed  calls\n",
       "0     divide_and_conquer            52  samepair    5    0.000226  0.0      1\n",
       "1    dinamic_programming            52  samepair    5    0.000030  0.0      1\n",
       "2  dinamic_programming_2            52  samepair    5    0.000159  0.0      1\n",
       "3        greedy_approach            52  samepair    5    0.000073  0.0      1\n",
       "4     divide_and_conquer            52  samepair    5    0.000164  0.0      1"
      ]
     },
     "execution_count": 9,
     "metadata": {},
     "output_type": "execute_result"
    }
   ],
   "source": [
    "results_path = '/Users/bananasacks/Desktop/MLDM Python Code/Advanced Algos Project/Run Results'\n",
    "\n",
    "file_list = [f for f in listdir(results_path) if isfile(join(results_path, f))]\n",
    "\n",
    "frames = []\n",
    "for file_name in file_list:\n",
    "    if file_name.endswith('_200.csv'):\n",
    "        splitted_name = file_name.split('_')\n",
    "        df = pd.read_csv(results_path+'/'+file_name)\n",
    "        df['alphabet_len'] = len(splitted_name[1])\n",
    "        df['test_type'] = splitted_name[2]\n",
    "        frames.append(df)\n",
    "results = pd.concat(frames)\n",
    "results = results[['algorithm','alphabet_len','test_type','len','clock_time','ed','calls']]\n",
    "\n",
    "results.head()"
   ]
  },
  {
   "cell_type": "code",
   "execution_count": 16,
   "metadata": {
    "scrolled": false
   },
   "outputs": [
    {
     "data": {
      "image/png": "[encoded data removed]",
      "text/plain": [
       "<Figure size 720x576 with 1 Axes>"
      ]
     },
     "metadata": {
      "needs_background": "light"
     },
     "output_type": "display_data"
    }
   ],
   "source": [
    "fig, ax = plt.subplots(ncols=1,figsize=(10,8))\n",
    "\n",
    "graph_data = results[(results['alphabet_len'] == 52) & (results['algorithm'] == 'dinamic_programming_2') & (results['test_type'] == 'randompair')]\n",
    "graph_data = graph_data.groupby(['algorithm','alphabet_len','len']).mean().reset_index()\n",
    "\n",
    "#Experimiental fit to complexity\n",
    "fit = np.polyfit(graph_data['len'].apply(lambda x: x**2), graph_data['clock_time'],1)    \n",
    "graph_data['clock_time_fit'] = graph_data['len'].apply(lambda x: fit[0]*(x**2)+fit[1])\n",
    "\n",
    "r_square = r2_score(graph_data['clock_time'], graph_data['clock_time_fit'])\n",
    "ax.set_title('Dynamic Programming 2 - Strings Length')\n",
    "\n",
    "ax.set_ylabel('Time')\n",
    "ax.set_xlabel('String Length')\n",
    "ax.text(75,0.05,'$a(x^2)$')\n",
    "ax.text(75,0,'$R^2$:'+str('{:.4f}'.format(r_square)))\n",
    "\n",
    "g = sns.lineplot(data = graph_data, x='len', y='clock_time', ax = ax, label='Real Time')\n",
    "g = sns.lineplot(data = graph_data, x='len', y='clock_time_fit', ax = ax, label='Complexity fit')\n",
    "\n",
    "plt.show()"
   ]
  }
 ],
 "metadata": {
  "kernelspec": {
   "display_name": "Python 3",
   "language": "python",
   "name": "python3"
  },
  "language_info": {
   "codemirror_mode": {
    "name": "ipython",
    "version": 3
   },
   "file_extension": ".py",
   "mimetype": "text/x-python",
   "name": "python",
   "nbconvert_exporter": "python",
   "pygments_lexer": "ipython3",
   "version": "3.7.6"
  }
 },
 "nbformat": 4,
 "nbformat_minor": 2
}
