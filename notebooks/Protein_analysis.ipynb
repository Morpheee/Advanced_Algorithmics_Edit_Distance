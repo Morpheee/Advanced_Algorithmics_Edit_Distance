{
 "cells": [
  {
   "cell_type": "code",
   "execution_count": 2,
   "metadata": {},
   "outputs": [
    {
     "name": "stdout",
     "output_type": "stream",
     "text": [
      "{'ed': 5.0, 'alignment': array([], shape=(0, 2), dtype=float64)}\n"
     ]
    }
   ],
   "source": [
    "import pandas as pd\n",
    "import seaborn as sns\n",
    "import numpy as np\n",
    "import swifter\n",
    "from matplotlib import pyplot as plt\n",
    "from sklearn.model_selection import train_test_split\n",
    "from AdvancedAlgosPascalle import *\n",
    "from graphviz import Graph"
   ]
  },
  {
   "cell_type": "markdown",
   "metadata": {},
   "source": [
    "Import dataset<br>\n",
    "Sample dataset<br>\n",
    "Compute ed of sample<br>\n",
    "???<br>\n",
    "Profit<br>\n",
    "\n",
    "<br>\n",
    "#### TODO\n",
    "Count time run stuff"
   ]
  },
  {
   "cell_type": "code",
   "execution_count": 4,
   "metadata": {},
   "outputs": [
    {
     "data": {
      "text/html": [
       "<div>\n",
       "<style scoped>\n",
       "    .dataframe tbody tr th:only-of-type {\n",
       "        vertical-align: middle;\n",
       "    }\n",
       "\n",
       "    .dataframe tbody tr th {\n",
       "        vertical-align: top;\n",
       "    }\n",
       "\n",
       "    .dataframe thead th {\n",
       "        text-align: right;\n",
       "    }\n",
       "</style>\n",
       "<table border=\"1\" class=\"dataframe\">\n",
       "  <thead>\n",
       "    <tr style=\"text-align: right;\">\n",
       "      <th></th>\n",
       "      <th>name</th>\n",
       "      <th>length</th>\n",
       "      <th>group</th>\n",
       "      <th>protein</th>\n",
       "    </tr>\n",
       "  </thead>\n",
       "  <tbody>\n",
       "    <tr>\n",
       "      <th>0</th>\n",
       "      <td>1GME_A</td>\n",
       "      <td>151</td>\n",
       "      <td>1</td>\n",
       "      <td>MSIVRRSNVFDPFADLWADPFDTFRSIVPAISGGGSETAAFANARM...</td>\n",
       "    </tr>\n",
       "    <tr>\n",
       "      <th>1</th>\n",
       "      <td>1ONS_A</td>\n",
       "      <td>282</td>\n",
       "      <td>20</td>\n",
       "      <td>TVQTSKNPQVDIAEDNAFFPSEYSLSQYTSPVSDLDGVDYPKPYRG...</td>\n",
       "    </tr>\n",
       "    <tr>\n",
       "      <th>2</th>\n",
       "      <td>1TVG_A</td>\n",
       "      <td>153</td>\n",
       "      <td>16</td>\n",
       "      <td>MGHHHHHHSHMRKIDLCLSSEGSEVILATSSDEKHPPENIIDGNPE...</td>\n",
       "    </tr>\n",
       "    <tr>\n",
       "      <th>3</th>\n",
       "      <td>2N3JB</td>\n",
       "      <td>98</td>\n",
       "      <td>99</td>\n",
       "      <td>MQLSSGVSEIRHTADRWRVSLDVNHFAPDELTVKTKDGVVEITGKH...</td>\n",
       "    </tr>\n",
       "    <tr>\n",
       "      <th>4</th>\n",
       "      <td>2WJ5A</td>\n",
       "      <td>101</td>\n",
       "      <td>99</td>\n",
       "      <td>GAMAQVPTDPGYFSVLLDVKHFSPEEISVKVVGDHVEVHARHEERP...</td>\n",
       "    </tr>\n",
       "  </tbody>\n",
       "</table>\n",
       "</div>"
      ],
      "text/plain": [
       "     name  length  group                                            protein\n",
       "0  1GME_A     151      1  MSIVRRSNVFDPFADLWADPFDTFRSIVPAISGGGSETAAFANARM...\n",
       "1  1ONS_A     282     20  TVQTSKNPQVDIAEDNAFFPSEYSLSQYTSPVSDLDGVDYPKPYRG...\n",
       "2  1TVG_A     153     16  MGHHHHHHSHMRKIDLCLSSEGSEVILATSSDEKHPPENIIDGNPE...\n",
       "3   2N3JB      98     99  MQLSSGVSEIRHTADRWRVSLDVNHFAPDELTVKTKDGVVEITGKH...\n",
       "4   2WJ5A     101     99  GAMAQVPTDPGYFSVLLDVKHFSPEEISVKVVGDHVEVHARHEERP..."
      ]
     },
     "execution_count": 4,
     "metadata": {},
     "output_type": "execute_result"
    }
   ],
   "source": [
    "#Import dataset\n",
    "protein_path = 'protein'\n",
    "protein_file = 'export_1603716401.csv'\n",
    "\n",
    "protein_dataset = pd.read_csv(protein_path+'/'+protein_file)\n",
    "\n",
    "protein_dataset.head()"
   ]
  },
  {
   "cell_type": "code",
   "execution_count": null,
   "metadata": {},
   "outputs": [],
   "source": [
    "protein_dataset[['name','protein','group']].describe()"
   ]
  },
  {
   "cell_type": "code",
   "execution_count": null,
   "metadata": {},
   "outputs": [],
   "source": [
    "protein_dataset['group'].describe()"
   ]
  },
  {
   "cell_type": "code",
   "execution_count": null,
   "metadata": {},
   "outputs": [],
   "source": [
    "#Sampling dataset\n",
    "X_train, X_test, y_train, y_test = train_test_split(\n",
    "    protein_dataset[['name','protein','group']],\n",
    "    protein_dataset['group'],\n",
    "    test_size=0.01,\n",
    "    random_state=4269,\n",
    "    stratify=protein_dataset['group']\n",
    "    )\n",
    "\n",
    "X_test.head()"
   ]
  },
  {
   "cell_type": "code",
   "execution_count": null,
   "metadata": {},
   "outputs": [],
   "source": [
    "#Cartesian product\n",
    "pair_proteins = X_test.copy()\n",
    "pair_proteins['key'] = 0\n",
    "\n",
    "pair_proteins = pair_proteins.merge(pair_proteins, on='key', suffixes={'_1','_2'})\n",
    "\n",
    "#Drop equal pairs\n",
    "pair_proteins = pair_proteins[pair_proteins['name_1'] != pair_proteins['name_2']]\n",
    "\n",
    "pair_proteins.head()"
   ]
  },
  {
   "cell_type": "code",
   "execution_count": null,
   "metadata": {},
   "outputs": [],
   "source": [
    "pair_proteins.describe()"
   ]
  },
  {
   "cell_type": "code",
   "execution_count": null,
   "metadata": {},
   "outputs": [],
   "source": [
    "#Calculating ed\n",
    "pair_proteins['ed'] = pair_proteins.apply(lambda row: editDistanceDP(row['protein_1'],row['protein_2']), axis=1)"
   ]
  },
  {
   "cell_type": "code",
   "execution_count": null,
   "metadata": {},
   "outputs": [],
   "source": [
    "pair_proteins['edit_distance'] = pair_proteins['ed'].apply(lambda x: x['ed'])\n",
    "\n",
    "pair_proteins.head()"
   ]
  },
  {
   "cell_type": "code",
   "execution_count": null,
   "metadata": {},
   "outputs": [],
   "source": [
    "pair_proteins['edit_distance'].value_counts(ascending=True)"
   ]
  },
  {
   "cell_type": "code",
   "execution_count": null,
   "metadata": {},
   "outputs": [],
   "source": [
    "pair_proteins.to_csv(protein_path+'/'+'pair_proteins.csv',index=False)"
   ]
  },
  {
   "cell_type": "code",
   "execution_count": 5,
   "metadata": {},
   "outputs": [],
   "source": [
    "pair_proteins = pd.read_csv(protein_path+'/'+'pair_proteins.csv')"
   ]
  },
  {
   "cell_type": "code",
   "execution_count": null,
   "metadata": {},
   "outputs": [],
   "source": [
    "prot_a = 'MSIIPSFFTGNGSNIFDPFSSEIWDPFQGLSSVINNLPESSRETTAIANTRIDWKETPEAHVFKADLPGLKKEEVKVEVEEGRVLQISGERSRENVEKNDKWHRMERSSGKFLRRFRLPENAKMDQVKAAMENGVLTVTVPKAEVKKPEVKAIDIS'\n",
    "prot_b = 'MSLIPSFFGGRRTNVFDPFSLDLYDPFEGFLTPSGMTNATSKDVAAFTNAKVDWRETPEAHVFKADLPGLKKEEVKVEVEDGNILQISGERSSENEEKSDRWHRVERSSGKFMRRFKLPENAKVDEVKASMENGVLSVTVPKMAERKPEVKSIDISG'\n",
    "prot_c = 'MNTLTKENHGNVSETVEGKDQKLTTRVYSPNVDVLETEETIQFFVEMPGVDQTSVDISIEKDQLILEGKFVSSEESRGQVRLAEYREGNYYRKFTIGKAIHSDKATAKMKNGILELTIPKMEPKKTKIEIQK'\n",
    "editDistanceDP(prot_a,prot_c)"
   ]
  },
  {
   "cell_type": "code",
   "execution_count": 8,
   "metadata": {},
   "outputs": [
    {
     "data": {
      "image/png": "[encoded data removed]",
      "text/plain": [
       "<Figure size 720x720 with 1 Axes>"
      ]
     },
     "metadata": {},
     "output_type": "display_data"
    }
   ],
   "source": [
    "fig, ax = plt.subplots(figsize=(10,10))\n",
    "\n",
    "sns.distplot(a=pair_proteins['edit_distance'], ax=ax)\n",
    "#75 will be the cut\n",
    "plt.show()"
   ]
  },
  {
   "cell_type": "code",
   "execution_count": null,
   "metadata": {},
   "outputs": [],
   "source": [
    "#Set data as a weighted acyclic graph\n",
    "#Analyse all of the ed and 'cut' connections over x value\n",
    "\n",
    "#Run BFS and generate list of graphs\n",
    "#Profit???"
   ]
  },
  {
   "cell_type": "code",
   "execution_count": 9,
   "metadata": {},
   "outputs": [
    {
     "data": {
      "text/html": [
       "<div>\n",
       "<style scoped>\n",
       "    .dataframe tbody tr th:only-of-type {\n",
       "        vertical-align: middle;\n",
       "    }\n",
       "\n",
       "    .dataframe tbody tr th {\n",
       "        vertical-align: top;\n",
       "    }\n",
       "\n",
       "    .dataframe thead th {\n",
       "        text-align: right;\n",
       "    }\n",
       "</style>\n",
       "<table border=\"1\" class=\"dataframe\">\n",
       "  <thead>\n",
       "    <tr style=\"text-align: right;\">\n",
       "      <th></th>\n",
       "      <th>name_1</th>\n",
       "      <th>name_2</th>\n",
       "      <th>edit_distance</th>\n",
       "    </tr>\n",
       "  </thead>\n",
       "  <tbody>\n",
       "    <tr>\n",
       "      <th>1</th>\n",
       "      <td>YP_003139127</td>\n",
       "      <td>WP_002761262</td>\n",
       "      <td>43.0</td>\n",
       "    </tr>\n",
       "    <tr>\n",
       "      <th>124</th>\n",
       "      <td>WP_002761262</td>\n",
       "      <td>YP_003139127</td>\n",
       "      <td>43.0</td>\n",
       "    </tr>\n",
       "    <tr>\n",
       "      <th>283</th>\n",
       "      <td>WP_060084673</td>\n",
       "      <td>WP_059524269</td>\n",
       "      <td>8.0</td>\n",
       "    </tr>\n",
       "    <tr>\n",
       "      <th>321</th>\n",
       "      <td>KYZ73633</td>\n",
       "      <td>EHW06272</td>\n",
       "      <td>20.0</td>\n",
       "    </tr>\n",
       "    <tr>\n",
       "      <th>602</th>\n",
       "      <td>EJA97862</td>\n",
       "      <td>ZP_11129104</td>\n",
       "      <td>66.0</td>\n",
       "    </tr>\n",
       "  </tbody>\n",
       "</table>\n",
       "</div>"
      ],
      "text/plain": [
       "           name_1        name_2  edit_distance\n",
       "1    YP_003139127  WP_002761262           43.0\n",
       "124  WP_002761262  YP_003139127           43.0\n",
       "283  WP_060084673  WP_059524269            8.0\n",
       "321      KYZ73633      EHW06272           20.0\n",
       "602      EJA97862   ZP_11129104           66.0"
      ]
     },
     "execution_count": 9,
     "metadata": {},
     "output_type": "execute_result"
    }
   ],
   "source": [
    "graph_info = pair_proteins[['name_1','name_2','edit_distance']]\n",
    "graph_info = graph_info.copy()\n",
    "\n",
    "graph_info = graph_info[graph_info['edit_distance'] <= 75]\n",
    "\n",
    "graph_info.head()"
   ]
  },
  {
   "cell_type": "code",
   "execution_count": 58,
   "metadata": {},
   "outputs": [
    {
     "name": "stdout",
     "output_type": "stream",
     "text": [
      "graph Proteins {\n",
      "\tYP_003139127 -- WP_002761262\n",
      "\tWP_002761262 -- YP_003139127\n",
      "\tWP_060084673 -- WP_059524269\n",
      "\tKYZ73633 -- EHW06272\n",
      "\tEJA97862 -- ZP_11129104\n",
      "\tZP_10674128 -- ZP_06493705\n",
      "\tZP_10674128 -- WP_046051843\n",
      "\tZP_10674128 -- YP_003743577\n",
      "\tEHW06272 -- KYZ73633\n",
      "\tXP_008384896 -- XP_012441135\n",
      "\tXP_008384896 -- KCW52609\n",
      "\tXP_008384896 -- ACE60625\n",
      "\tZP_11157398 -- CCQ74065\n",
      "\tZP_06493705 -- ZP_10674128\n",
      "\tZP_06493705 -- WP_046051843\n",
      "\tZP_06493705 -- YP_003743577\n",
      "\tXP_012441135 -- XP_008384896\n",
      "\tXP_012441135 -- KCW52609\n",
      "\tXP_012441135 -- ACE60625\n",
      "\tWP_046051843 -- ZP_10674128\n",
      "\tWP_046051843 -- ZP_06493705\n",
      "\tWP_046051843 -- YP_003743577\n",
      "\tCCQ74065 -- ZP_11157398\n",
      "\tCCQ74065 -- ZP_11250046\n",
      "\tESF85942 -- ESC23015\n",
      "\tKCW52609 -- XP_008384896\n",
      "\tKCW52609 -- XP_012441135\n",
      "\tKCW52609 -- ACE60625\n",
      "\tWP_059524269 -- WP_060084673\n",
      "\tACE60625 -- XP_008384896\n",
      "\tACE60625 -- XP_012441135\n",
      "\tACE60625 -- KCW52609\n",
      "\tZP_11129104 -- EJA97862\n",
      "\tZP_11250046 -- CCQ74065\n",
      "\tYP_003743577 -- ZP_10674128\n",
      "\tYP_003743577 -- ZP_06493705\n",
      "\tYP_003743577 -- WP_046051843\n",
      "\tESC23015 -- ESF85942\n",
      "\tWP_052865406 -- WP_050373900\n",
      "\tWP_050373900 -- WP_052865406\n",
      "}\n"
     ]
    }
   ],
   "source": [
    "nodes = []\n",
    "edges = {}\n",
    "\n",
    "\n",
    "#Get connections of the node\n",
    "for index, row in graph_info.iterrows():\n",
    "    if row['name_1'] in edges:\n",
    "        edges[row['name_1']] = edges[row['name_1']]+[row['name_2']]\n",
    "    else:\n",
    "        edges[row['name_1']] = [row['name_2']]\n",
    "\n",
    "    if row['name_1'] not in nodes:\n",
    "        nodes.append(row['name_1'])\n",
    "    if row['name_2'] not in nodes:\n",
    "        nodes.append(row['name_2'])\n",
    "\n",
    "graph = Graph('Proteins')\n",
    "for key in edges.keys():\n",
    "    a = key\n",
    "    for b in edges[key]:\n",
    "        graph.edge(a,b)\n",
    "\n",
    "    \n",
    "print(graph)"
   ]
  },
  {
   "cell_type": "code",
   "execution_count": 49,
   "metadata": {},
   "outputs": [
    {
     "name": "stdout",
     "output_type": "stream",
     "text": [
      "{'YP_003139127': ['WP_002761262'], 'WP_002761262': ['YP_003139127'], 'WP_060084673': ['WP_059524269'], 'KYZ73633': ['EHW06272'], 'EJA97862': ['ZP_11129104'], 'ZP_10674128': ['ZP_06493705', 'WP_046051843', 'YP_003743577'], 'EHW06272': ['KYZ73633'], 'XP_008384896': ['XP_012441135', 'KCW52609', 'ACE60625'], 'ZP_11157398': ['CCQ74065'], 'ZP_06493705': ['ZP_10674128', 'WP_046051843', 'YP_003743577'], 'XP_012441135': ['XP_008384896', 'KCW52609', 'ACE60625'], 'WP_046051843': ['ZP_10674128', 'ZP_06493705', 'YP_003743577'], 'CCQ74065': ['ZP_11157398', 'ZP_11250046'], 'ESF85942': ['ESC23015'], 'KCW52609': ['XP_008384896', 'XP_012441135', 'ACE60625'], 'WP_059524269': ['WP_060084673'], 'ACE60625': ['XP_008384896', 'XP_012441135', 'KCW52609'], 'ZP_11129104': ['EJA97862'], 'ZP_11250046': ['CCQ74065'], 'YP_003743577': ['ZP_10674128', 'ZP_06493705', 'WP_046051843'], 'ESC23015': ['ESF85942'], 'WP_052865406': ['WP_050373900'], 'WP_050373900': ['WP_052865406']}\n",
      "\n",
      "['YP_003139127', 'WP_002761262', 'WP_060084673', 'WP_059524269', 'KYZ73633', 'EHW06272', 'EJA97862', 'ZP_11129104', 'ZP_10674128', 'ZP_06493705', 'WP_046051843', 'YP_003743577', 'XP_008384896', 'XP_012441135', 'KCW52609', 'ACE60625', 'ZP_11157398', 'CCQ74065', 'ZP_11250046', 'ESF85942', 'ESC23015', 'WP_052865406', 'WP_050373900']\n"
     ]
    }
   ],
   "source": [
    "print(edges)\n",
    "print()\n",
    "print(nodes)"
   ]
  },
  {
   "cell_type": "code",
   "execution_count": 54,
   "metadata": {},
   "outputs": [
    {
     "name": "stdout",
     "output_type": "stream",
     "text": [
      "[['WP_050373900', 'WP_052865406'], ['ESC23015', 'ESF85942'], ['ZP_11250046', 'CCQ74065', 'ZP_11157398'], ['ACE60625', 'KCW52609', 'XP_012441135', 'XP_008384896'], ['YP_003743577', 'WP_046051843', 'ZP_06493705', 'ZP_10674128'], ['ZP_11129104', 'EJA97862'], ['EHW06272', 'KYZ73633'], ['WP_059524269', 'WP_060084673'], ['WP_002761262', 'YP_003139127']]\n"
     ]
    }
   ],
   "source": [
    "#Original graph\n",
    "edges\n",
    "nodes\n",
    "\n",
    "graphs = []\n",
    "\n",
    "while len(nodes) > 0:    \n",
    "    #List of visited edges\n",
    "    visited = []\n",
    "    #List of edges to visit\n",
    "    to_visit = [nodes.pop()]\n",
    "    while len(to_visit) > 0:\n",
    "        current = to_visit.pop()\n",
    "        if current not in visited:\n",
    "            visited.append(current)\n",
    "        if current in nodes:\n",
    "            nodes.remove(current)\n",
    "        for con_node in edges[current]:\n",
    "            if con_node not in visited:\n",
    "                to_visit.append(con_node)\n",
    "    graphs.append(visited)\n",
    "    \n",
    "print(graphs)"
   ]
  },
  {
   "cell_type": "code",
   "execution_count": 55,
   "metadata": {},
   "outputs": [],
   "source": [
    "graphs_list = []\n",
    "i=0\n",
    "for node_list in graphs:\n",
    "    graph = Graph('Graph_'+str(i))\n",
    "    i += 1\n",
    "    for node in node_list:\n",
    "        for other_node in edges[node]:\n",
    "            graph.edge(node,other_node)\n",
    "    graphs_list.append(graph)"
   ]
  },
  {
   "cell_type": "code",
   "execution_count": 56,
   "metadata": {},
   "outputs": [
    {
     "name": "stdout",
     "output_type": "stream",
     "text": [
      "graph Graph_0 {\n",
      "\tWP_050373900 -- WP_052865406\n",
      "\tWP_052865406 -- WP_050373900\n",
      "}\n",
      "graph Graph_1 {\n",
      "\tESC23015 -- ESF85942\n",
      "\tESF85942 -- ESC23015\n",
      "}\n",
      "graph Graph_2 {\n",
      "\tZP_11250046 -- CCQ74065\n",
      "\tCCQ74065 -- ZP_11157398\n",
      "\tCCQ74065 -- ZP_11250046\n",
      "\tZP_11157398 -- CCQ74065\n",
      "}\n",
      "graph Graph_3 {\n",
      "\tACE60625 -- XP_008384896\n",
      "\tACE60625 -- XP_012441135\n",
      "\tACE60625 -- KCW52609\n",
      "\tKCW52609 -- XP_008384896\n",
      "\tKCW52609 -- XP_012441135\n",
      "\tKCW52609 -- ACE60625\n",
      "\tXP_012441135 -- XP_008384896\n",
      "\tXP_012441135 -- KCW52609\n",
      "\tXP_012441135 -- ACE60625\n",
      "\tXP_008384896 -- XP_012441135\n",
      "\tXP_008384896 -- KCW52609\n",
      "\tXP_008384896 -- ACE60625\n",
      "}\n",
      "graph Graph_4 {\n",
      "\tYP_003743577 -- ZP_10674128\n",
      "\tYP_003743577 -- ZP_06493705\n",
      "\tYP_003743577 -- WP_046051843\n",
      "\tWP_046051843 -- ZP_10674128\n",
      "\tWP_046051843 -- ZP_06493705\n",
      "\tWP_046051843 -- YP_003743577\n",
      "\tZP_06493705 -- ZP_10674128\n",
      "\tZP_06493705 -- WP_046051843\n",
      "\tZP_06493705 -- YP_003743577\n",
      "\tZP_10674128 -- ZP_06493705\n",
      "\tZP_10674128 -- WP_046051843\n",
      "\tZP_10674128 -- YP_003743577\n",
      "}\n",
      "graph Graph_5 {\n",
      "\tZP_11129104 -- EJA97862\n",
      "\tEJA97862 -- ZP_11129104\n",
      "}\n",
      "graph Graph_6 {\n",
      "\tEHW06272 -- KYZ73633\n",
      "\tKYZ73633 -- EHW06272\n",
      "}\n",
      "graph Graph_7 {\n",
      "\tWP_059524269 -- WP_060084673\n",
      "\tWP_060084673 -- WP_059524269\n",
      "}\n",
      "graph Graph_8 {\n",
      "\tWP_002761262 -- YP_003139127\n",
      "\tYP_003139127 -- WP_002761262\n",
      "}\n"
     ]
    }
   ],
   "source": [
    "for graph in graphs_list:\n",
    "    print(graph)"
   ]
  }
 ],
 "metadata": {
  "kernelspec": {
   "display_name": "Python 3",
   "language": "python",
   "name": "python3"
  },
  "language_info": {
   "codemirror_mode": {
    "name": "ipython",
    "version": 3
   },
   "file_extension": ".py",
   "mimetype": "text/x-python",
   "name": "python",
   "nbconvert_exporter": "python",
   "pygments_lexer": "ipython3",
   "version": "3.6.4"
  }
 },
 "nbformat": 4,
 "nbformat_minor": 2
}
