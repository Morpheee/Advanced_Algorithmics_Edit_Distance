{
 "cells": [
  {
   "cell_type": "code",
   "execution_count": 1,
   "metadata": {},
   "outputs": [],
   "source": [
    " #recursion for Edit Distance\n",
    "def RecED(s1,s2,operations=[],ED=0):\n",
    "    #if s1 is empty,we insert all characters of s2 in s1  \n",
    "    if len (s1)==0:\n",
    "        return ED+len(s2),operations+ [{'insert':x} for x in s2 ]  \n",
    "    #if s2 is empty,we insert all characters of s1 s2 \n",
    "    if len(s2)==0:\n",
    "        return ED+len(s1),operations+ [{'insert':x} for x in s1 ] \n",
    "     # If last characters of both strings are the same,we set k=0 because we ignore them and\n",
    "     #and we compute ED for these strings without last characters\n",
    "    if(s1[-1]== s2[-1]):\n",
    "        k = 0\n",
    "        w1=RecED(s1[:-1],s2[:-1],operations+[{'skip':s1[-1]}],ED+k)\n",
    "     #if last characters are different, we set k=1 and we consider all three\n",
    "    # operations on last character of s1, compute cost for all three operations\n",
    "    else:\n",
    "        k = 1\n",
    "        w1=RecED(s1[:-1],s2[:-1],operations+[{'replace':s1[-1]}],ED+k)\n",
    "    w2=RecED(s1[:-1],s2,operations+[{'delete':s1[-1]}],ED+1)\n",
    "    w3=RecED(s1, s2[:-1],operations+[{'insert':s2[-1]}],ED+1) \n",
    "    #compare all costs and choose the minimal one of them\n",
    "    if w1[0]<=w2[0] and w1[0]<=w3[0]:\n",
    "        return w1\n",
    "    elif w2[0]<=w1[0] and w2[0]<=w3[0]:\n",
    "        return w2  \n",
    "    else :\n",
    "        return w3"
   ]
  },
  {
   "cell_type": "code",
   "execution_count": 3,
   "metadata": {},
   "outputs": [
    {
     "data": {
      "text/plain": [
       "(3,\n",
       " [{'insert': '3'},\n",
       "  {'insert': '2'},\n",
       "  {'insert': '1'},\n",
       "  {'skip': 'a'},\n",
       "  {'skip': 'z'},\n",
       "  {'skip': 'i'},\n",
       "  {'skip': 'y'},\n",
       "  {'skip': 'L'}])"
      ]
     },
     "execution_count": 3,
     "metadata": {},
     "output_type": "execute_result"
    }
   ],
   "source": [
    "RecED ('Lyiza','Lyiza123')"
   ]
  },
  {
   "cell_type": "code",
   "execution_count": null,
   "metadata": {},
   "outputs": [],
   "source": []
  },
  {
   "cell_type": "code",
   "execution_count": null,
   "metadata": {},
   "outputs": [],
   "source": []
  }
 ],
 "metadata": {
  "kernelspec": {
   "display_name": "Python 3",
   "language": "python",
   "name": "python3"
  },
  "language_info": {
   "codemirror_mode": {
    "name": "ipython",
    "version": 3
   },
   "file_extension": ".py",
   "mimetype": "text/x-python",
   "name": "python",
   "nbconvert_exporter": "python",
   "pygments_lexer": "ipython3",
   "version": "3.8.3"
  }
 },
 "nbformat": 4,
 "nbformat_minor": 4
}
